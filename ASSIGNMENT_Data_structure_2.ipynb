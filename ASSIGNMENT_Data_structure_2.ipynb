{
  "nbformat": 4,
  "nbformat_minor": 0,
  "metadata": {
    "colab": {
      "provenance": []
    },
    "kernelspec": {
      "name": "python3",
      "display_name": "Python 3"
    },
    "language_info": {
      "name": "python"
    }
  },
  "cells": [
    {
      "cell_type": "markdown",
      "source": [
        "**Theoretical Questions**"
      ],
      "metadata": {
        "id": "WSiBgqtlGt_D"
      }
    },
    {
      "cell_type": "markdown",
      "source": [
        "Q1. What are data structures, and why are they important?\n",
        "\n",
        "A data structure is a way of organizing, storing, and managing data so that it can be used efficiently\n",
        "Important\n",
        "\n",
        "Efficient data handling → They allow storing large amounts of data in a structured way.\n",
        "\n",
        "Faster operations → Searching, inserting, deleting, and sorting data becomes Quicker.\n",
        "\n",
        "Memory management → Helps in saving memory by choosing the right structure.\n",
        "\n",
        "Real-world problem solving → Most problems (like finding the shortest path, managing databases, social networks, etc.) need proper data structures.\n",
        "\n",
        "Data structures are smart ways to organize data, making programs faster, more efficient, and scalable."
      ],
      "metadata": {
        "id": "7aSzdWwdGJ8G"
      }
    },
    {
      "cell_type": "markdown",
      "source": [
        "Q2. Explain the difference between mutable and immutable data types with examples?\n",
        "\n",
        "Mutable Data Types\n",
        "Definition: Mutable objects can be changed after creation (you can add, update, or delete elements without creating a new object).\n",
        "\n",
        "Examples:\n",
        "List\n",
        "Dictionary\n",
        "Set\n",
        "\n",
        "**Immutable Data Types**\n",
        "\n",
        "Definition: Immutable objects cannot be changed once created. If you try to modify, a new object is created.\n",
        "Examples:\n",
        "String\n",
        "Tuple\n",
        "Integer\n",
        "Float"
      ],
      "metadata": {
        "id": "jzVSvRi8GJ59"
      }
    },
    {
      "cell_type": "markdown",
      "source": [
        "Q3. What are the main differences between lists and tuples in Python?\n",
        "\n",
        "**Key Differences**\n",
        "\n",
        "Immutability: Tuples are immutable, meaning their contents cannot be modified after creation. Lists are mutable, allowing elements to be added, removed, or modified.\n",
        "\n",
        "Syntax: Lists use square brackets [], while tuples use parentheses ().\n",
        "\n",
        "Performance: Tuples are generally faster and more memory-efficient due to their immutability.\n",
        "\n",
        "Use Cases: Lists are suitable for dynamic data, while tuples are ideal for fixed, constant data."
      ],
      "metadata": {
        "id": "bltkJBCUGJ1h"
      }
    },
    {
      "cell_type": "markdown",
      "source": [
        "Q4. Describe how dictionaries store data\n",
        "\n",
        "Dictionaries store data in key-value pairs. Each key is unique and maps to a specific value. This allows for efficient lookups, insertions, and deletions.\n",
        "\n",
        "Internal Structure: Dictionaries use a hash table data structure, which enables fast access to values based on their keys."
      ],
      "metadata": {
        "id": "g59pSXp-GJzc"
      }
    },
    {
      "cell_type": "markdown",
      "source": [
        "Q5. Why might you use a set instead of a list in Python?\n",
        "\n",
        "Key Reasons to Use Sets : 1. Fast Lookups: Sets are super fast for checking if something exists.\n",
        "No Duplicates: Sets automatically remove duplicates, so you only get unique items.\n",
        "\n",
        "Math Operations: Sets can do cool math stuff like finding common items or differences between groups.\n",
        "\n",
        "**When to Use Sets?**\n",
        "\n",
        "Remove Duplicates: Use sets to get rid of duplicates in a list.\n",
        "\n",
        "Fast Checks: Use sets to quickly check if something exists.\n",
        "\n",
        "Compare Groups: Use sets to find common or different items between groups.\n",
        "\n",
        "**When to Use Lists?**\n",
        "\n",
        "Order Matters: Use lists when the order of items is important.\n",
        "\n",
        "Indexing: Use lists when you need to access items by their position.\n",
        "\n",
        "Modify Items: Use lists when you need to change individual items."
      ],
      "metadata": {
        "id": "egNp-qaXGJeR"
      }
    },
    {
      "cell_type": "markdown",
      "source": [
        "Q6. What is a string in Python, and how is it different from a list?\n",
        "\n",
        "Strings in Python: A string is a sequence of characters, such as letters, numbers, or symbols, enclosed in quotes (single, double, or triple quotes).\n",
        "\n",
        "**Characteristics:**\n",
        "\n",
        "Immutable: Strings cannot be changed after creation.\n",
        "\n",
        "Sequence: Strings are sequences of characters.\n",
        "\n",
        "Example: my_string = \"Hello, World!\"\n",
        "Difference from Lists:\n",
        "\n",
        "Immutability: Strings are immutable, while lists are mutable.\n",
        "\n",
        "Character Sequence: Strings are sequences of characters, while lists can contain any data type.\n",
        "\n",
        "Operations: Strings have specific operations like concatenation and substring extraction, while lists have operations like indexing and slicing.\n",
        "\n",
        "Example:-\n",
        "my_string = \"Hello\"\n",
        "\n",
        "my_list = [\"H\", \"e\", \"l\", \"l\", \"o\"]"
      ],
      "metadata": {
        "id": "pyLLxMs5IO-6"
      }
    },
    {
      "cell_type": "markdown",
      "source": [
        "Q7. How do tuples ensure data integrity in Python?\n",
        "\n",
        "Ensuring Data Integrity: Tuples ensure data integrity in Python through their immutability. Once a tuple is created, its contents cannot be modified, which helps maintain the data's original state.\n",
        "\n",
        "**Benefits**\n",
        "\n",
        "Tuples prevent accidental modifications to data.\n",
        "\n",
        "Tuples ensure that data remains consistent throughout the program.\n",
        "\n",
        "Tuples are thread-safe due to their immutability.\n",
        "\n",
        "**Use Cases**\n",
        "\n",
        "Use tuples to define constants that should not be changed.\n",
        "\n",
        "Use tuples to protect data from unintended modifications.\n",
        "\n",
        "Use tuples when working with multi-threaded programs."
      ],
      "metadata": {
        "id": "A5HVrrcqIOoh"
      }
    },
    {
      "cell_type": "markdown",
      "source": [
        "Q8. What is a hash table, and how does it relate to dictionaries in Python?\n",
        "\n",
        "A hash table is a data structure that stores key-value pairs in an array using a hash function to map keys to indices.\n",
        "\n",
        "**How Hash Tables Work**\n",
        "\n",
        "Key Hashing: The key is passed through a hash function to generate an index.\n",
        "\n",
        "Indexing: The index is used to store and retrieve the associated value.\n",
        "\n",
        "**Relation to Dictionaries in Python**\n",
        "\n",
        "In Python, dictionaries are implemented using hash tables. This allows dictionaries to:\n",
        "\n",
        "Fast Lookups: Retrieve values quickly using keys.\n",
        "\n",
        "Efficient Insertions: Add new key-value pairs efficiently.\n",
        "\n",
        "Fast Deletions: Remove key-value pairs quickly.\n",
        "\n",
        "**Benefits**\n",
        "\n",
        "Average O(1) Time Complexity: Hash tables provide fast operations.\n",
        "\n",
        "Efficient Data Storage: Hash tables store data in a compact format."
      ],
      "metadata": {
        "id": "BBolmYP9JFlT"
      }
    },
    {
      "cell_type": "markdown",
      "source": [
        "Q9. Can lists contain different data types in Python?\n",
        "\n",
        "Yes, lists in Python can contain different data types. This means you can store various types of data, such as:\n",
        "\n",
        "Integers,\n",
        "Strings,\n",
        "Floats,\n",
        "Booleans,\n",
        "Other lists,\n",
        "Dictionaries,\n",
        "Tuples,\n",
        "\n",
        "This flexibility makes lists a powerful data structure in Python, allowing you to store and manipulate diverse data types in a single collection."
      ],
      "metadata": {
        "id": "U7aHpXChJFiK"
      }
    },
    {
      "cell_type": "markdown",
      "source": [
        "Q10. Explain why strings are immutable in Python.\n",
        "\n",
        "Strings in Python are immutable, meaning their contents cannot be modified after creation.\n",
        "\n",
        "**Reasons for Immutability**\n",
        "\n",
        "Security: Immutability ensures that sensitive data, like passwords, remains unchanged.\n",
        "\n",
        "Thread Safety: Immutable strings are safe to share between threads without fear of modification.\n",
        "\n",
        "Hashability: Immutable strings can be used as dictionary keys and in sets.\n",
        "\n",
        "Performance: Immutability allows Python to optimize string operations and caching.\n",
        "\n",
        "Example"
      ],
      "metadata": {
        "id": "kqI7CiVsJFfv"
      }
    },
    {
      "cell_type": "code",
      "source": [
        "my_string = \"hello\" #Error: 'str' object does not support item assignment\n",
        "my_string[0] = \"H\""
      ],
      "metadata": {
        "colab": {
          "base_uri": "https://localhost:8080/",
          "height": 158
        },
        "id": "KZdd9ciwKCBY",
        "outputId": "ea166622-fd75-4920-d654-e161513f9d58"
      },
      "execution_count": null,
      "outputs": [
        {
          "output_type": "error",
          "ename": "TypeError",
          "evalue": "'str' object does not support item assignment",
          "traceback": [
            "\u001b[0;31m---------------------------------------------------------------------------\u001b[0m",
            "\u001b[0;31mTypeError\u001b[0m                                 Traceback (most recent call last)",
            "\u001b[0;32m/tmp/ipython-input-1023876155.py\u001b[0m in \u001b[0;36m<cell line: 0>\u001b[0;34m()\u001b[0m\n\u001b[1;32m      1\u001b[0m \u001b[0mmy_string\u001b[0m \u001b[0;34m=\u001b[0m \u001b[0;34m\"hello\"\u001b[0m \u001b[0;31m#Error: 'str' object does not support item assignment\u001b[0m\u001b[0;34m\u001b[0m\u001b[0;34m\u001b[0m\u001b[0m\n\u001b[0;32m----> 2\u001b[0;31m \u001b[0mmy_string\u001b[0m\u001b[0;34m[\u001b[0m\u001b[0;36m0\u001b[0m\u001b[0;34m]\u001b[0m \u001b[0;34m=\u001b[0m \u001b[0;34m\"H\"\u001b[0m\u001b[0;34m\u001b[0m\u001b[0;34m\u001b[0m\u001b[0m\n\u001b[0m",
            "\u001b[0;31mTypeError\u001b[0m: 'str' object does not support item assignment"
          ]
        }
      ]
    },
    {
      "cell_type": "markdown",
      "source": [
        "Instead, you can create a new string with the desired changes:"
      ],
      "metadata": {
        "id": "idoqNJqKKNKC"
      }
    },
    {
      "cell_type": "code",
      "source": [
        "my_string = \"hello\"\n",
        "my_string = my_string.capitalize()\n",
        "print(my_string)"
      ],
      "metadata": {
        "colab": {
          "base_uri": "https://localhost:8080/"
        },
        "id": "cJfFABxFKN3E",
        "outputId": "cf37f42a-48d6-4c92-d260-1b1c3a756376"
      },
      "execution_count": null,
      "outputs": [
        {
          "output_type": "stream",
          "name": "stdout",
          "text": [
            "Hello\n"
          ]
        }
      ]
    },
    {
      "cell_type": "markdown",
      "source": [
        "Immutability provides benefits in terms of security, thread safety, and performance, making strings more reliable and efficient in Python."
      ],
      "metadata": {
        "id": "7VhQ7HSOIOaD"
      }
    },
    {
      "cell_type": "markdown",
      "source": [
        "Q11. What advantages do dictionaries offer over lists for certain tasks?\n",
        "\n",
        "**Advantages of Dictionaries:**\n",
        "\n",
        "Fast Lookups: Dictionaries provide fast lookups, with an average time complexity of O(1), making them ideal for tasks that require frequent data retrieval.\n",
        "\n",
        "Key-Value Pairs: Dictionaries store data as key-value pairs, allowing for efficient data organization and retrieval.\n",
        "\n",
        "Flexible Data Structure: Dictionaries can store a wide range of data types, including strings, integers, floats, and other dictionaries.\n",
        "\n",
        "Efficient Data Updates: Dictionaries allow for efficient updates and modifications to data.\n",
        "\n",
        "**Use Cases:**\n",
        "\n",
        "Data Retrieval: Use dictionaries when you need to retrieve data based on a specific key or identifier.\n",
        "\n",
        "Data Organization: Use dictionaries to organize data in a structured and efficient manner.\n",
        "\n",
        "Caching: Use dictionaries to implement caching mechanisms, where data is stored and retrieved quickly.\n",
        "\n",
        "Example:"
      ],
      "metadata": {
        "id": "-ob_zA-8IOMb"
      }
    },
    {
      "cell_type": "code",
      "source": [
        "# Dictionary\n",
        "person = {\"name\": \"eiva\", \"age\": 30}\n",
        "print(person[\"name\"])"
      ],
      "metadata": {
        "colab": {
          "base_uri": "https://localhost:8080/"
        },
        "id": "UCX400uIKy8M",
        "outputId": "723224e4-3ad0-4e34-bbb1-4e4a4ac4c492"
      },
      "execution_count": null,
      "outputs": [
        {
          "output_type": "stream",
          "name": "stdout",
          "text": [
            "eiva\n"
          ]
        }
      ]
    },
    {
      "cell_type": "code",
      "source": [
        "# List\n",
        "people = [[\"eiva\", 30], [\"Jane\", 25]]\n",
        "# Finding a specific person's data requires iteration\n",
        "\n",
        "for person in people:\n",
        "  if person[0] == \"eiva\":\n",
        "    print(person[1])"
      ],
      "metadata": {
        "colab": {
          "base_uri": "https://localhost:8080/"
        },
        "id": "PQY5T19rLC__",
        "outputId": "ed0c478e-42dc-48c1-de61-6bc868caacbd"
      },
      "execution_count": null,
      "outputs": [
        {
          "output_type": "stream",
          "name": "stdout",
          "text": [
            "30\n"
          ]
        }
      ]
    },
    {
      "cell_type": "markdown",
      "source": [
        "In summary, dictionaries offer advantages over lists when it comes to fast lookups, efficient data organization, and flexible data storage."
      ],
      "metadata": {
        "id": "8ELuPLXjGJNZ"
      }
    },
    {
      "cell_type": "markdown",
      "source": [
        "Q12. Describe a scenario where using a tuple would be preferable over a list.\n",
        "\n",
        "Scenario: Using Tuples for Constants: Suppose you're building a program that requires a set of constants, such as days of the week or colors in a palette. In this case, using a tuple would be preferable over a list because:\n",
        "\n",
        "Immutability: Tuples ensure that the constants remain unchanged throughout the program.\n",
        "\n",
        "Thread Safety: Tuples are thread-safe, making them suitable for multi-threaded programs.\n",
        "\n",
        "Code Readability: Tuples clearly Could Could you make sure that the data is meant to be constant?\n",
        "\n",
        "Example:"
      ],
      "metadata": {
        "id": "L0C_LrlmGI5O"
      }
    },
    {
      "cell_type": "code",
      "source": [
        "DAYS_OF_WEEK = (\"Monday\", \"Tuesday\", \"Wednesday\", \"Thursday\", \"Friday\", \"Saturday\", \"Sunday\")\n",
        "DAYS_OF_WEEK"
      ],
      "metadata": {
        "colab": {
          "base_uri": "https://localhost:8080/"
        },
        "id": "orqL7IEILoAH",
        "outputId": "43a66534-c252-4d4f-857b-8d5d9aee3e3a"
      },
      "execution_count": null,
      "outputs": [
        {
          "output_type": "execute_result",
          "data": {
            "text/plain": [
              "('Monday', 'Tuesday', 'Wednesday', 'Thursday', 'Friday', 'Saturday', 'Sunday')"
            ]
          },
          "metadata": {},
          "execution_count": 5
        }
      ]
    },
    {
      "cell_type": "markdown",
      "source": [
        "By using a tuple, you ensure that the days of the week remain constant and unchanged, making your code more predictable and maintainable.\n",
        "\n",
        "**Benefits**\n",
        "\n",
        "Prevents Accidental Modifications: Tuples prevent accidental changes to the constants.\n",
        "Improves Code Readability: Tuples clearly convey the intent of the data.\n",
        "Enhances Thread Safety: Tuples are safe to share between threads.\n",
        "\n",
        "~In summary, tuples are a better choice than lists when working with constants or data that should not be changed, ensuring immutability, thread safety, and code readability."
      ],
      "metadata": {
        "id": "YuLUmHv7LPoM"
      }
    },
    {
      "cell_type": "markdown",
      "source": [
        "Q13. How do sets handle duplicate values in Python?\n",
        "\n",
        "Handling Duplicate Values: Sets in Python automatically eliminate duplicate values. When you add a duplicate value to a set, it is simply ignored, and the set remains unchanged.\n",
        "\n",
        "Example:"
      ],
      "metadata": {
        "id": "5l_xmbRVLPlO"
      }
    },
    {
      "cell_type": "code",
      "source": [
        "my_set = {1, 2, 2, 3, 4, 4, 5}\n",
        "my_set"
      ],
      "metadata": {
        "colab": {
          "base_uri": "https://localhost:8080/"
        },
        "id": "Xk3UqADkMKH2",
        "outputId": "1febd88e-9322-469c-c93d-d9da0dde42f5"
      },
      "execution_count": null,
      "outputs": [
        {
          "output_type": "execute_result",
          "data": {
            "text/plain": [
              "{1, 2, 3, 4, 5}"
            ]
          },
          "metadata": {},
          "execution_count": 6
        }
      ]
    },
    {
      "cell_type": "markdown",
      "source": [
        "**Benefits:**\n",
        "\n",
        "Automatic Duplicate Removal: Sets automatically remove duplicates, ensuring that all elements are unique.\n",
        "\n",
        "Efficient Data Storage: Sets store only unique elements, reducing data redundancy.\n",
        "\n",
        "Fast Membership Testing: Sets provide fast membership testing, making it easy to check if an element exists.\n",
        "\n",
        "**Use Cases:**\n",
        "\n",
        "Removing Duplicates: Use sets to remove duplicates from a collection of data.\n",
        "\n",
        "Unique Data Storage: Use sets to store unique data, such as IDs or names.\n",
        "\n",
        "~By using sets, you can efficiently handle duplicate values and ensure that your data remains unique and consistent."
      ],
      "metadata": {
        "id": "RBVbXpTmMTrW"
      }
    },
    {
      "cell_type": "markdown",
      "source": [
        "Q14. How does the “in” keyword work differently for lists and dictionaries?\n",
        "\n",
        "\"in\" Keyword:\n",
        "\n",
        "Lists: For lists, the in keyword checks if a value exists in the list.\n",
        "\n",
        "Example:"
      ],
      "metadata": {
        "id": "a3Bj2RmMMTm7"
      }
    },
    {
      "cell_type": "code",
      "source": [
        "my_list = [1, 2, 3, 4, 5]\n",
        "print(3 in my_list)"
      ],
      "metadata": {
        "colab": {
          "base_uri": "https://localhost:8080/"
        },
        "id": "uyCh_3P_MpAE",
        "outputId": "752ba9a8-e5bc-4309-e987-ad837699f7c8"
      },
      "execution_count": null,
      "outputs": [
        {
          "output_type": "stream",
          "name": "stdout",
          "text": [
            "True\n"
          ]
        }
      ]
    },
    {
      "cell_type": "markdown",
      "source": [
        "Dictionaries: For dictionaries, the in keyword checks if a key exists in the dictionary.\n",
        "\n",
        "Example:"
      ],
      "metadata": {
        "id": "6YY4PyB1MTiQ"
      }
    },
    {
      "cell_type": "code",
      "source": [
        "my_dict = {\"name\": \"eiva\", \"age\": 30}\n",
        "print(\"name\" in my_dict)\n",
        "print(\"eiva\" in my_dict) #False (because \"John\" is a value, not a key)"
      ],
      "metadata": {
        "colab": {
          "base_uri": "https://localhost:8080/"
        },
        "id": "yuHTKxj-MxZ1",
        "outputId": "bfe3c177-cc84-4d23-9214-be14181825a5"
      },
      "execution_count": null,
      "outputs": [
        {
          "output_type": "stream",
          "name": "stdout",
          "text": [
            "True\n",
            "False\n"
          ]
        }
      ]
    },
    {
      "cell_type": "markdown",
      "source": [
        "**Key Differences:**\n",
        "\n",
        "Value vs Key: in checks for values in lists and keys in dictionaries.\n",
        "\n",
        "Lookup Mechanism: Lists perform a linear search, while dictionaries use a hash table lookup.\n",
        "\n",
        "~By understanding how the in keyword works differently for lists and dictionaries, you can write more efficient and effective code."
      ],
      "metadata": {
        "id": "SI42NiPYMTer"
      }
    },
    {
      "cell_type": "markdown",
      "source": [
        "Q15. Can you modify the elements of a tuple? Explain why or why not.\n",
        "\n",
        "**Tuples in Python**\n",
        "\n",
        "Immutability: No, you cannot modify the elements of a tuple directly. Tuples are immutable, meaning their contents cannot be changed after creation.\n",
        "\n",
        "**Why Immutability?**\n",
        "\n",
        "Security: Immutability ensures that data remains consistent and unchanged.\n",
        "\n",
        "Thread Safety: Immutable tuples are safe to share between threads.\n",
        "\n",
        "Hashability: Tuples can be used as Dictionary keys are keys due to their immutability.\n",
        "\n",
        "Example:"
      ],
      "metadata": {
        "id": "UwN4eW85NEsK"
      }
    },
    {
      "cell_type": "code",
      "source": [
        "my_tuple = (1, 2, 3)\n",
        "my_tuple[0] = 10 # Error: 'tuple' object does not support item assignment"
      ],
      "metadata": {
        "colab": {
          "base_uri": "https://localhost:8080/",
          "height": 158
        },
        "id": "eBi6NE_5NQyV",
        "outputId": "88d3245e-6d1e-4ae0-f8e8-ec27c321a5c3"
      },
      "execution_count": null,
      "outputs": [
        {
          "output_type": "error",
          "ename": "TypeError",
          "evalue": "'tuple' object does not support item assignment",
          "traceback": [
            "\u001b[0;31m---------------------------------------------------------------------------\u001b[0m",
            "\u001b[0;31mTypeError\u001b[0m                                 Traceback (most recent call last)",
            "\u001b[0;32m/tmp/ipython-input-486284093.py\u001b[0m in \u001b[0;36m<cell line: 0>\u001b[0;34m()\u001b[0m\n\u001b[1;32m      1\u001b[0m \u001b[0mmy_tuple\u001b[0m \u001b[0;34m=\u001b[0m \u001b[0;34m(\u001b[0m\u001b[0;36m1\u001b[0m\u001b[0;34m,\u001b[0m \u001b[0;36m2\u001b[0m\u001b[0;34m,\u001b[0m \u001b[0;36m3\u001b[0m\u001b[0;34m)\u001b[0m\u001b[0;34m\u001b[0m\u001b[0;34m\u001b[0m\u001b[0m\n\u001b[0;32m----> 2\u001b[0;31m \u001b[0mmy_tuple\u001b[0m\u001b[0;34m[\u001b[0m\u001b[0;36m0\u001b[0m\u001b[0;34m]\u001b[0m \u001b[0;34m=\u001b[0m \u001b[0;36m10\u001b[0m \u001b[0;31m# Error: 'tuple' object does not support item assignment\u001b[0m\u001b[0;34m\u001b[0m\u001b[0;34m\u001b[0m\u001b[0m\n\u001b[0m",
            "\u001b[0;31mTypeError\u001b[0m: 'tuple' object does not support item assignment"
          ]
        }
      ]
    },
    {
      "cell_type": "markdown",
      "source": [
        "Workaround:\n",
        "\n",
        "If you need to modify data, consider using a list instead. Alternatively, you can create a new tuple with the desired changes:"
      ],
      "metadata": {
        "id": "gMF376goNWBr"
      }
    },
    {
      "cell_type": "code",
      "source": [
        "my_tuple = (1, 2, 3)\n",
        "my_tuple = (10, my_tuple[1], my_tuple[2])\n",
        "print(my_tuple)"
      ],
      "metadata": {
        "colab": {
          "base_uri": "https://localhost:8080/"
        },
        "id": "LGzbxzlJNaJW",
        "outputId": "58ec019b-bef7-4b3e-a9ed-2f0578b1054b"
      },
      "execution_count": null,
      "outputs": [
        {
          "output_type": "stream",
          "name": "stdout",
          "text": [
            "(10, 2, 3)\n"
          ]
        }
      ]
    },
    {
      "cell_type": "markdown",
      "source": [
        "In summary, tuples are immutable, and their elements cannot be modified directly due to their design and benefits."
      ],
      "metadata": {
        "id": "dqov1J2mNf7u"
      }
    },
    {
      "cell_type": "markdown",
      "source": [
        "Q16. What is a nested dictionary, and give an example of its use case?\n",
        "\n",
        "Definition: A nested dictionary is a dictionary that contains another dictionary as its value. This allows for complex data structures and hierarchical data organization.\n",
        "\n",
        "Example:"
      ],
      "metadata": {
        "id": "az7pRjStNi6G"
      }
    },
    {
      "cell_type": "code",
      "source": [
        "person = {\n",
        "    \"name\": \"John\",\n",
        "    \"age\": 30,\n",
        "    \"address\": {\n",
        "        \"street\": \"123 Main St\",\n",
        "         \"city\": \"New York\",\n",
        "        \"state\": \"NY\"\n",
        "        }\n",
        "    }\n",
        "person"
      ],
      "metadata": {
        "colab": {
          "base_uri": "https://localhost:8080/"
        },
        "id": "xUez0QR0Nnp9",
        "outputId": "8ad070fa-a080-4a8c-e702-bcc1e417e4a2"
      },
      "execution_count": null,
      "outputs": [
        {
          "output_type": "execute_result",
          "data": {
            "text/plain": [
              "{'name': 'John',\n",
              " 'age': 30,\n",
              " 'address': {'street': '123 Main St', 'city': 'New York', 'state': 'NY'}}"
            ]
          },
          "metadata": {},
          "execution_count": 11
        }
      ]
    },
    {
      "cell_type": "markdown",
      "source": [
        "Use Case: Nested dictionaries are useful when dealing with complex data that has multiple layers of organization. For example:\n",
        "\n",
        "User Profiles: Store user information with nested dictionaries for address, employment, or education.\n",
        "\n",
        "Product Catalogs: Organize product information with nested dictionaries for features, specifications, or reviews.\n",
        "\n",
        "JSON Data: Parse and manipulate JSON data, which often contains nested dictionaries.\n",
        "\n",
        "~Accessing Nested Dictionary Values:"
      ],
      "metadata": {
        "id": "578sZNugNuYd"
      }
    },
    {
      "cell_type": "code",
      "source": [
        "print(person[\"address\"][\"city\"])"
      ],
      "metadata": {
        "colab": {
          "base_uri": "https://localhost:8080/"
        },
        "id": "N6V5A9zpN3fp",
        "outputId": "6265028b-f1b8-4cb6-bdc1-b76c88b7b6d8"
      },
      "execution_count": null,
      "outputs": [
        {
          "output_type": "stream",
          "name": "stdout",
          "text": [
            "New York\n"
          ]
        }
      ]
    },
    {
      "cell_type": "markdown",
      "source": [
        "By using nested dictionaries, you can efficiently store and retrieve complex data with a hierarchical structure."
      ],
      "metadata": {
        "id": "jGkRInJKN8FO"
      }
    },
    {
      "cell_type": "markdown",
      "source": [
        "Q17. Describe the time complexity of accessing elements in a dictionary.\n",
        "\n",
        "**Dictionary Access**\n",
        "\n",
        "Time Complexity: The average time complexity of accessing elements in a dictionary is O(1), making dictionaries highly efficient for lookups.\n",
        "\n",
        "Why O(1) Time Complexity?\n",
        "\n",
        "Hash Table: Dictionaries use a hash table data structure, which allows for fast lookups.\n",
        "\n",
        "Key Hashing: The key is hashed to generate an index, enabling direct access to the associated value.\n",
        "\n",
        "**Worst-Case Scenario**\n",
        "\n",
        "In rare cases, hash collisions can occur, leading to a time complexity of O(n). However, this is uncommon with well-implemented hash tables.\n",
        "\n",
        "**Benefits:**\n",
        "\n",
        "Fast Lookups: Dictionaries provide fast lookups, making them ideal for applications with frequent data retrieval.\n",
        "\n",
        "Efficient Data Storage: Dictionaries store data efficiently, allowing for fast access and manipulation.\n",
        "\n",
        "By leveraging dictionaries, you can write efficient code that takes advantage of their fast lookup capabilities."
      ],
      "metadata": {
        "id": "hVf8oWTmOApJ"
      }
    },
    {
      "cell_type": "markdown",
      "source": [
        "Q18. In what situations are lists preferred over dictionaries?\n",
        "\n",
        "**Lists vs Dictionaries**\n",
        "\n",
        "Situations Where Lists Are Preferred:\n",
        "\n",
        "Lists are preferred over dictionaries in the following situations:\n",
        "\n",
        "Ordered Data: When the order of elements matters, lists are a better choice.\n",
        "\n",
        "Index-Based Access: When you need to access elements by their index, lists provide direct access.\n",
        "\n",
        "Homogeneous Data: When storing a collection of similar data types, lists are suitable.\n",
        "\n",
        "Frequent Insertions/Deletions: When you need to frequently insert or delete elements at specific positions, lists are more efficient.\n",
        "\n",
        "**Examples:**\n",
        "\n",
        "To-Do Lists: A list of tasks to be completed, where order matters.\n",
        "\n",
        "Queue or Stack: Implementing a queue or stack data structure, where elements are added and removed in a specific order.\n",
        "\n",
        "Data Sequences: Storing sequences of data, such as time series data or sensor readings.\n",
        "\n",
        "**Benefits:**\n",
        "\n",
        "Ordered Data Structure: Lists maintain the order of elements.\n",
        "\n",
        "Index-Based Access: Lists provide direct access to elements using their index.\n",
        "\n",
        "Flexible Data Structure: Lists can store a wide range of data types.\n",
        "\n",
        "~By choosing lists over dictionaries in situations where order matters or index-based access is necessary, you can write more efficient and effective code."
      ],
      "metadata": {
        "id": "qyA8hamhOTqw"
      }
    },
    {
      "cell_type": "markdown",
      "source": [
        "Q19. Why are dictionaries considered unordered, and how does that affect data retrieval?\n",
        "\n",
        "**Dictionaries**\n",
        "\n",
        "Unordered Nature: In Python versions prior to 3.7, dictionaries were considered unordered because they did not maintain the insertion order of key-value pairs. However, in Python 3.7 and later, dictionaries maintain insertion order.\n",
        "\n",
        "**Impact on Data Retrieval**\n",
        "\n",
        "The unordered nature of dictionaries (in older Python versions) or the insertion order (in newer versions) affects data retrieval in the following ways:\n",
        "\n",
        "No Index-Based Access: Dictionaries do not support index-based access, so you cannot retrieve elements by their position.\n",
        "\n",
        "Key-Based Access: Instead, dictionaries use key-based access, where you retrieve values using their Corresponding keys.\n",
        "\n",
        "Fast Lookups: Despite the unordered nature, dictionaries provide fast lookups, making them efficient for data retrieval.\n",
        "\n",
        "Example:"
      ],
      "metadata": {
        "id": "ulpNB-pOPC7y"
      }
    },
    {
      "cell_type": "code",
      "source": [
        "my_dict = {\"name\": \"John\", \"age\": 30}\n",
        "print(my_dict[\"name\"])"
      ],
      "metadata": {
        "colab": {
          "base_uri": "https://localhost:8080/"
        },
        "id": "Wbyf8BbmPOuR",
        "outputId": "8ff733b8-f6d9-42ac-f391-633102bd31c8"
      },
      "execution_count": null,
      "outputs": [
        {
          "output_type": "stream",
          "name": "stdout",
          "text": [
            "John\n"
          ]
        }
      ]
    },
    {
      "cell_type": "markdown",
      "source": [
        "**Benefits:**\n",
        "\n",
        "Fast Lookups: Dictionaries provide fast lookups, regardless of their order.\n",
        "\n",
        "Efficient Data Storage: Dictionaries store data efficiently, allowing for fast access and manipulation.\n",
        "\n",
        "~By understanding the unordered nature of dictionaries (or insertion order in newer Python versions), you can write efficient code that takes advantage of their fast lookup capabilities."
      ],
      "metadata": {
        "id": "u2HoN_IqPW65"
      }
    },
    {
      "cell_type": "markdown",
      "source": [
        "Q20. Explain the difference between a list and a dictionary in terms of data retrieval.\n",
        "\n",
        "**Lists vs Dictionaries**\n",
        "\n",
        "Data Retrieval: The main difference between lists and dictionaries in terms of data retrieval is:\n",
        "\n",
        "Lists: Use index-based access, where elements are retrieved using their numerical index (position).\n",
        "\n",
        "Dictionaries: Use key-based access, where values are retrieved using their corresponding keys.\n",
        "\n",
        "Example:"
      ],
      "metadata": {
        "id": "8555JzG5Pfpp"
      }
    },
    {
      "cell_type": "code",
      "source": [
        "\n",
        "# List\n",
        "my_list = [\"apple\", \"banana\", \"cherry\"]\n",
        "print(my_list[0])  # apple (index-based access)"
      ],
      "metadata": {
        "colab": {
          "base_uri": "https://localhost:8080/"
        },
        "id": "BECD5nSPPmaL",
        "outputId": "a8290391-4cf0-432c-a660-d1060c5adf63"
      },
      "execution_count": null,
      "outputs": [
        {
          "output_type": "stream",
          "name": "stdout",
          "text": [
            "apple\n"
          ]
        }
      ]
    },
    {
      "cell_type": "code",
      "source": [
        "# Dictionary\n",
        "my_dict = {\"fruit\": \"apple\", \"color\": \"red\"}\n",
        "print(my_dict[\"fruit\"])   # apple (key-based access)"
      ],
      "metadata": {
        "colab": {
          "base_uri": "https://localhost:8080/"
        },
        "id": "74Jgg1c9Pq6h",
        "outputId": "fb14dc95-a475-45d1-ee71-e6198d1a9859"
      },
      "execution_count": null,
      "outputs": [
        {
          "output_type": "stream",
          "name": "stdout",
          "text": [
            "apple\n"
          ]
        }
      ]
    },
    {
      "cell_type": "markdown",
      "source": [
        "**Key Differences:**\n",
        "\n",
        "Access Method: Lists use numerical indices, while dictionaries use keys.\n",
        "\n",
        "Data Structure: Lists are ordered collections, while dictionaries are key-value pairs.\n",
        "\n",
        "~By understanding the difference between index-based access in lists and key-based access in dictionaries, you can choose the most suitable data structure for your specific use case."
      ],
      "metadata": {
        "id": "ivwTkcDDPu1F"
      }
    },
    {
      "cell_type": "markdown",
      "source": [
        "**Practical Questions**"
      ],
      "metadata": {
        "id": "-7qcyqn5P3bF"
      }
    },
    {
      "cell_type": "markdown",
      "source": [
        "Q1. Write a code to create a string with your name and print it."
      ],
      "metadata": {
        "id": "bxtY44jdQEw5"
      }
    },
    {
      "cell_type": "code",
      "source": [
        "name = \"HARSHIKA\"\n",
        "print(name)"
      ],
      "metadata": {
        "colab": {
          "base_uri": "https://localhost:8080/"
        },
        "id": "5A4ehBQdQJEk",
        "outputId": "e6458e8f-d7a7-4ec2-be45-59fc27b3aea6"
      },
      "execution_count": null,
      "outputs": [
        {
          "output_type": "stream",
          "name": "stdout",
          "text": [
            "HARSHIKA\n"
          ]
        }
      ]
    },
    {
      "cell_type": "code",
      "source": [
        "type(name)"
      ],
      "metadata": {
        "colab": {
          "base_uri": "https://localhost:8080/"
        },
        "id": "KPlwzAiZQQ-6",
        "outputId": "729addaa-2718-4ed6-bbfd-6fd16bef0362"
      },
      "execution_count": null,
      "outputs": [
        {
          "output_type": "execute_result",
          "data": {
            "text/plain": [
              "str"
            ]
          },
          "metadata": {},
          "execution_count": 19
        }
      ]
    },
    {
      "cell_type": "markdown",
      "source": [
        "Q2. Write a code to find the length of the string \"Hello World\""
      ],
      "metadata": {
        "id": "ABVkdAG4QVnf"
      }
    },
    {
      "cell_type": "code",
      "source": [
        "string = \"Hello World\"\n",
        "length = len(string)\n",
        "print(length)"
      ],
      "metadata": {
        "colab": {
          "base_uri": "https://localhost:8080/"
        },
        "id": "S4XrWNehQZPA",
        "outputId": "daf7c786-c1dd-4845-ec09-33fc9ab93ded"
      },
      "execution_count": null,
      "outputs": [
        {
          "output_type": "stream",
          "name": "stdout",
          "text": [
            "11\n"
          ]
        }
      ]
    },
    {
      "cell_type": "markdown",
      "source": [
        "\n",
        "Q3. Write a code to slice the first 3 characters from the string \"Python Programming\"."
      ],
      "metadata": {
        "id": "t3kwODInQnNP"
      }
    },
    {
      "cell_type": "code",
      "source": [
        "string = \"Python Programming\"\n",
        "sliced_string = string[:3]\n",
        "print(sliced_string)"
      ],
      "metadata": {
        "colab": {
          "base_uri": "https://localhost:8080/"
        },
        "id": "O8WV1IMwQsUk",
        "outputId": "b82057ed-bbcd-400e-c623-aa2df2686850"
      },
      "execution_count": null,
      "outputs": [
        {
          "output_type": "stream",
          "name": "stdout",
          "text": [
            "Pyt\n"
          ]
        }
      ]
    },
    {
      "cell_type": "markdown",
      "source": [
        "Q4. Write a code to convert the string \"hello\" to uppercase."
      ],
      "metadata": {
        "id": "LklGB5WAQwZX"
      }
    },
    {
      "cell_type": "code",
      "source": [
        "string = \"hello\"\n",
        "uppercase_string = string.upper()\n",
        "print(uppercase_string)"
      ],
      "metadata": {
        "colab": {
          "base_uri": "https://localhost:8080/"
        },
        "id": "iA2MMiDiQy7I",
        "outputId": "900be1f7-59a9-4a06-f731-0702951a2830"
      },
      "execution_count": null,
      "outputs": [
        {
          "output_type": "stream",
          "name": "stdout",
          "text": [
            "HELLO\n"
          ]
        }
      ]
    },
    {
      "cell_type": "markdown",
      "source": [
        "Q5. Write a code to replace the word \"apple\" with \"orange\" in the string \"I like apple\"."
      ],
      "metadata": {
        "id": "l1fVBFIQQ3wD"
      }
    },
    {
      "cell_type": "code",
      "source": [
        "a = \"I like apple\"\n",
        "new_a = a.replace(\"apple\", \"orange\")\n",
        "print(new_a)"
      ],
      "metadata": {
        "colab": {
          "base_uri": "https://localhost:8080/"
        },
        "id": "Qczx_wIDQ7Rs",
        "outputId": "56a5a224-7ca8-4279-abf1-0b95526304f5"
      },
      "execution_count": null,
      "outputs": [
        {
          "output_type": "stream",
          "name": "stdout",
          "text": [
            "I like orange\n"
          ]
        }
      ]
    },
    {
      "cell_type": "code",
      "source": [
        "type(a)"
      ],
      "metadata": {
        "colab": {
          "base_uri": "https://localhost:8080/"
        },
        "id": "XtvwmTj6Q-_g",
        "outputId": "3c8de7ed-7498-48cb-c458-a8fae8bf8d03"
      },
      "execution_count": null,
      "outputs": [
        {
          "output_type": "execute_result",
          "data": {
            "text/plain": [
              "str"
            ]
          },
          "metadata": {},
          "execution_count": 25
        }
      ]
    },
    {
      "cell_type": "markdown",
      "source": [
        "Q6. Write a code to create a list with numbers 1 to 5 and print it."
      ],
      "metadata": {
        "id": "zAzLP8cVRFHM"
      }
    },
    {
      "cell_type": "code",
      "source": [
        "numbers = [1, 2, 3, 4, 5]\n",
        "print(numbers)"
      ],
      "metadata": {
        "colab": {
          "base_uri": "https://localhost:8080/"
        },
        "id": "cvIy5LtyRIyC",
        "outputId": "05159065-10c9-4e03-b6b8-3892baeefc2b"
      },
      "execution_count": null,
      "outputs": [
        {
          "output_type": "stream",
          "name": "stdout",
          "text": [
            "[1, 2, 3, 4, 5]\n"
          ]
        }
      ]
    },
    {
      "cell_type": "code",
      "source": [
        "numbers = list(range(1, 6))\n",
        "print(numbers)\n"
      ],
      "metadata": {
        "colab": {
          "base_uri": "https://localhost:8080/"
        },
        "id": "TxZAMGzARObp",
        "outputId": "ae12ac1a-b4af-4fc5-ed19-cbb084467dc3"
      },
      "execution_count": null,
      "outputs": [
        {
          "output_type": "stream",
          "name": "stdout",
          "text": [
            "[1, 2, 3, 4, 5]\n"
          ]
        }
      ]
    },
    {
      "cell_type": "markdown",
      "source": [
        "Q7. Write a code to append the number 10 to the list [1, 2, 3, 4]."
      ],
      "metadata": {
        "id": "rREm9jQVRWKS"
      }
    },
    {
      "cell_type": "code",
      "source": [
        "numbers = [1, 2, 3, 4]\n",
        "numbers"
      ],
      "metadata": {
        "colab": {
          "base_uri": "https://localhost:8080/"
        },
        "id": "-hy67e0ARaYg",
        "outputId": "9a389e61-66a5-412a-9ed4-b1e740bf0fe6"
      },
      "execution_count": null,
      "outputs": [
        {
          "output_type": "execute_result",
          "data": {
            "text/plain": [
              "[1, 2, 3, 4]"
            ]
          },
          "metadata": {},
          "execution_count": 28
        }
      ]
    },
    {
      "cell_type": "code",
      "source": [
        "numbers.append(10)\n",
        "print(numbers)"
      ],
      "metadata": {
        "colab": {
          "base_uri": "https://localhost:8080/"
        },
        "id": "rHnOBfk3RevY",
        "outputId": "f7533845-5061-405d-8bd2-7c36410f8607"
      },
      "execution_count": null,
      "outputs": [
        {
          "output_type": "stream",
          "name": "stdout",
          "text": [
            "[1, 2, 3, 4, 10]\n"
          ]
        }
      ]
    },
    {
      "cell_type": "markdown",
      "source": [
        "Q8. Write a code to remove the number 3 from the list [1, 2, 3, 4, 5]."
      ],
      "metadata": {
        "id": "D_RfO0slRpu-"
      }
    },
    {
      "cell_type": "code",
      "source": [
        "numbers = [1, 2, 3, 4, 5]\n",
        "numbers"
      ],
      "metadata": {
        "colab": {
          "base_uri": "https://localhost:8080/"
        },
        "id": "qg64tWZcRmDv",
        "outputId": "1f822fc3-30db-4988-a16f-b4ce2773d1f2"
      },
      "execution_count": null,
      "outputs": [
        {
          "output_type": "execute_result",
          "data": {
            "text/plain": [
              "[1, 2, 3, 4, 5]"
            ]
          },
          "metadata": {},
          "execution_count": 30
        }
      ]
    },
    {
      "cell_type": "code",
      "source": [
        "numbers.remove(3)\n",
        "print(numbers)"
      ],
      "metadata": {
        "colab": {
          "base_uri": "https://localhost:8080/"
        },
        "id": "vxuFJuM_Rxa_",
        "outputId": "7d28254b-bf52-4612-8ad8-ebc2c2e600d9"
      },
      "execution_count": null,
      "outputs": [
        {
          "output_type": "stream",
          "name": "stdout",
          "text": [
            "[1, 2, 4, 5]\n"
          ]
        }
      ]
    },
    {
      "cell_type": "markdown",
      "source": [
        "Q9. Write a code to access the second element in the list ['a', 'b', 'c', 'd']."
      ],
      "metadata": {
        "id": "svqwMCM_R4-x"
      }
    },
    {
      "cell_type": "code",
      "source": [
        "letters = ['a', 'b', 'c', 'd']\n",
        "second_element = letters[1]\n",
        "print(second_element)"
      ],
      "metadata": {
        "colab": {
          "base_uri": "https://localhost:8080/"
        },
        "id": "h1-mR0b-SEE9",
        "outputId": "5ac2b1e5-211a-475f-bfb7-49c3968b1544"
      },
      "execution_count": null,
      "outputs": [
        {
          "output_type": "stream",
          "name": "stdout",
          "text": [
            "b\n"
          ]
        }
      ]
    },
    {
      "cell_type": "markdown",
      "source": [
        "Q10. Write a code to reverse the list [10, 20, 30, 40, 50]."
      ],
      "metadata": {
        "id": "ysfdDqKjSIXU"
      }
    },
    {
      "cell_type": "code",
      "source": [
        "numbers = [10, 20, 30, 40, 50]\n",
        "numbers.reverse()\n",
        "print(numbers)"
      ],
      "metadata": {
        "colab": {
          "base_uri": "https://localhost:8080/"
        },
        "id": "dtnhIwLaSLvs",
        "outputId": "7cb40a6d-6824-4501-8d12-115c1b1030e7"
      },
      "execution_count": null,
      "outputs": [
        {
          "output_type": "stream",
          "name": "stdout",
          "text": [
            "[50, 40, 30, 20, 10]\n"
          ]
        }
      ]
    },
    {
      "cell_type": "markdown",
      "source": [
        "Q11. Write a code to create a tuple with the elements 100, 200, 300 and print it."
      ],
      "metadata": {
        "id": "oPSt49nWSPkQ"
      }
    },
    {
      "cell_type": "code",
      "source": [
        "numbers = (100, 200, 300)\n",
        "print(numbers)"
      ],
      "metadata": {
        "colab": {
          "base_uri": "https://localhost:8080/"
        },
        "id": "w5es4XVbS_to",
        "outputId": "7813a1ab-177d-46b9-c208-b5652e55d8a4"
      },
      "execution_count": null,
      "outputs": [
        {
          "output_type": "stream",
          "name": "stdout",
          "text": [
            "(100, 200, 300)\n"
          ]
        }
      ]
    },
    {
      "cell_type": "code",
      "source": [
        "type (numbers)"
      ],
      "metadata": {
        "colab": {
          "base_uri": "https://localhost:8080/"
        },
        "id": "KUfOdB-lTC2E",
        "outputId": "51dbc82f-d692-4af6-e9db-5848ab26c7bf"
      },
      "execution_count": null,
      "outputs": [
        {
          "output_type": "execute_result",
          "data": {
            "text/plain": [
              "tuple"
            ]
          },
          "metadata": {},
          "execution_count": 36
        }
      ]
    },
    {
      "cell_type": "markdown",
      "source": [
        "Q12. Write a code to access the second-to-last element of the tuple ('red', 'green', 'blue', 'yellow')."
      ],
      "metadata": {
        "id": "PXIeXIB1THu0"
      }
    },
    {
      "cell_type": "code",
      "source": [
        "colors = ('red', 'green', 'blue', 'yellow')\n",
        "second_last = colors[-2]\n",
        "print(second_last)"
      ],
      "metadata": {
        "colab": {
          "base_uri": "https://localhost:8080/"
        },
        "id": "CC3Om0B_TUw3",
        "outputId": "e230a970-8195-461c-f679-dfa9a18374de"
      },
      "execution_count": null,
      "outputs": [
        {
          "output_type": "stream",
          "name": "stdout",
          "text": [
            "blue\n"
          ]
        }
      ]
    },
    {
      "cell_type": "markdown",
      "source": [
        "Q13. Write a code to find the minimum number in the tuple (10, 20, 5, 15)."
      ],
      "metadata": {
        "id": "pZvyAZykTaHZ"
      }
    },
    {
      "cell_type": "code",
      "source": [
        "a = (10, 20, 5, 15)\n",
        "min_a = min(a)\n",
        "print(min_a)"
      ],
      "metadata": {
        "colab": {
          "base_uri": "https://localhost:8080/"
        },
        "id": "Na8-mMSOTcs3",
        "outputId": "a4f66695-164e-4889-e992-a594a28a5965"
      },
      "execution_count": null,
      "outputs": [
        {
          "output_type": "stream",
          "name": "stdout",
          "text": [
            "5\n"
          ]
        }
      ]
    },
    {
      "cell_type": "markdown",
      "source": [
        "Q14. Write a code to find the index of the element \"cat\" in the tuple ('dog', 'cat', 'rabbit')."
      ],
      "metadata": {
        "id": "E-xpN90cTkXQ"
      }
    },
    {
      "cell_type": "code",
      "source": [
        "animals = ('dog', 'cat', 'rabbit')\n",
        "index = animals.index('cat')\n",
        "print(index)"
      ],
      "metadata": {
        "colab": {
          "base_uri": "https://localhost:8080/"
        },
        "id": "RZurBAh6TlT8",
        "outputId": "9f454d6a-ad5b-43fc-ac84-97983a6ea87d"
      },
      "execution_count": null,
      "outputs": [
        {
          "output_type": "stream",
          "name": "stdout",
          "text": [
            "1\n"
          ]
        }
      ]
    },
    {
      "cell_type": "markdown",
      "source": [
        "Q15. Write a code to create a tuple containing three different fruits and check if \"kiwi\" is in it."
      ],
      "metadata": {
        "id": "MhYEqewVTpCb"
      }
    },
    {
      "cell_type": "code",
      "source": [
        "fruits = ('apple', 'banana', 'orange')\n",
        "if 'kiwi' in fruits:\n",
        "  print(\"Kiwi is in the tuple\")\n",
        "else:\n",
        "  print(\"Kiwi is not in the tuple\")"
      ],
      "metadata": {
        "colab": {
          "base_uri": "https://localhost:8080/"
        },
        "id": "aTHuvcDQTsCP",
        "outputId": "f19ac9c2-38d6-4893-a9ac-d50c5f6ab7e6"
      },
      "execution_count": null,
      "outputs": [
        {
          "output_type": "stream",
          "name": "stdout",
          "text": [
            "Kiwi is not in the tuple\n"
          ]
        }
      ]
    },
    {
      "cell_type": "markdown",
      "source": [
        "Q16. Write a code to create a set with the elements 'a', 'b', 'c' and print it."
      ],
      "metadata": {
        "id": "BY08dn8oT0di"
      }
    },
    {
      "cell_type": "code",
      "source": [
        "letters = {'a', 'b', 'c'}\n",
        "print(letters)"
      ],
      "metadata": {
        "colab": {
          "base_uri": "https://localhost:8080/"
        },
        "id": "-yeE2bMjT3jL",
        "outputId": "e69c2cb3-8180-4bb8-fc5e-92d6d7d17cb8"
      },
      "execution_count": null,
      "outputs": [
        {
          "output_type": "stream",
          "name": "stdout",
          "text": [
            "{'b', 'c', 'a'}\n"
          ]
        }
      ]
    },
    {
      "cell_type": "code",
      "source": [
        "type(letters)"
      ],
      "metadata": {
        "colab": {
          "base_uri": "https://localhost:8080/"
        },
        "id": "Lo_MWkoxT95s",
        "outputId": "58d3203f-c20c-49b8-9d89-47cb2c4d7811"
      },
      "execution_count": null,
      "outputs": [
        {
          "output_type": "execute_result",
          "data": {
            "text/plain": [
              "set"
            ]
          },
          "metadata": {},
          "execution_count": 43
        }
      ]
    },
    {
      "cell_type": "markdown",
      "source": [
        "Q17. Write a code to clear all elements from the set {1, 2, 3, 4, 5}."
      ],
      "metadata": {
        "id": "6qtJhgvxUGjP"
      }
    },
    {
      "cell_type": "code",
      "source": [
        "numbers = {1, 2, 3, 4}\n",
        "numbers.remove(4)\n",
        "print(numbers)"
      ],
      "metadata": {
        "colab": {
          "base_uri": "https://localhost:8080/"
        },
        "id": "LaigRi8sUF9r",
        "outputId": "73524185-d8b9-45ad-d1a9-d2bbdcb1f3cc"
      },
      "execution_count": null,
      "outputs": [
        {
          "output_type": "stream",
          "name": "stdout",
          "text": [
            "{1, 2, 3}\n"
          ]
        }
      ]
    },
    {
      "cell_type": "markdown",
      "source": [
        "Q19. Write a code to find the union of two sets {1, 2, 3} and {3, 4, 5}."
      ],
      "metadata": {
        "id": "5sWZvV2LUMOC"
      }
    },
    {
      "cell_type": "code",
      "source": [
        "set1 = {1, 2, 3}\n",
        "set2 = {3, 4, 5}\n",
        "union_set = set1.union(set2)\n",
        "print(union_set)"
      ],
      "metadata": {
        "colab": {
          "base_uri": "https://localhost:8080/"
        },
        "id": "aaMs_NzxUPM3",
        "outputId": "2a2b5753-b43e-4e89-8d05-941bd5409195"
      },
      "execution_count": null,
      "outputs": [
        {
          "output_type": "stream",
          "name": "stdout",
          "text": [
            "{1, 2, 3, 4, 5}\n"
          ]
        }
      ]
    },
    {
      "cell_type": "markdown",
      "source": [
        "\n",
        "Q20. Write a code to find the intersection of two sets {1, 2, 3} and {2, 3, 4}."
      ],
      "metadata": {
        "id": "kZU8J3HTUQ0k"
      }
    },
    {
      "cell_type": "code",
      "source": [
        "set1 = {1, 2, 3}\n",
        "set2 = {2, 3, 4}\n",
        "intersection_set = set1.intersection(set2)\n",
        "print(intersection_set)"
      ],
      "metadata": {
        "colab": {
          "base_uri": "https://localhost:8080/"
        },
        "id": "r2HtVTRgUVTE",
        "outputId": "240d844b-e451-4e02-cc8c-600cd68de4d4"
      },
      "execution_count": null,
      "outputs": [
        {
          "output_type": "stream",
          "name": "stdout",
          "text": [
            "{2, 3}\n"
          ]
        }
      ]
    },
    {
      "cell_type": "markdown",
      "source": [
        "Q21. Write a code to create a dictionary with the keys \"name\", \"age\", and \"city\", and print it."
      ],
      "metadata": {
        "id": "TsnV9papUcIr"
      }
    },
    {
      "cell_type": "code",
      "source": [
        "person = { \"name\": \"John\", \"age\": 30, \"city\": \"New York\"}\n",
        "print(person)"
      ],
      "metadata": {
        "colab": {
          "base_uri": "https://localhost:8080/"
        },
        "id": "U0a8q8lbUdYc",
        "outputId": "638549c2-9b0a-4908-e960-57dd68118191"
      },
      "execution_count": null,
      "outputs": [
        {
          "output_type": "stream",
          "name": "stdout",
          "text": [
            "{'name': 'John', 'age': 30, 'city': 'New York'}\n"
          ]
        }
      ]
    },
    {
      "cell_type": "markdown",
      "source": [
        "\n",
        "Q22. Write a code to add a new key-value pair \"country\": \"USA\" to the dictionary {'name': 'John', 'age': 25}."
      ],
      "metadata": {
        "id": "h1QvomSzUk6n"
      }
    },
    {
      "cell_type": "code",
      "source": [
        "person = {'name': 'John', 'age': 25}\n",
        "person[\"country\"] = \"USA\"\n",
        "print(person)"
      ],
      "metadata": {
        "colab": {
          "base_uri": "https://localhost:8080/"
        },
        "id": "8rR54qtmUmZD",
        "outputId": "d660a1a5-88bb-4237-c4cd-e7cad184e177"
      },
      "execution_count": null,
      "outputs": [
        {
          "output_type": "stream",
          "name": "stdout",
          "text": [
            "{'name': 'John', 'age': 25, 'country': 'USA'}\n"
          ]
        }
      ]
    },
    {
      "cell_type": "markdown",
      "source": [
        "Q23. Write a code to access the value associated with the key \"name\" in the dictionary {'name': 'Alice', 'age': 30}."
      ],
      "metadata": {
        "id": "50_J2l8qUrqG"
      }
    },
    {
      "cell_type": "code",
      "source": [
        "person = {'name': 'Alice', 'age': 30}\n",
        "name = person[\"name\"]\n",
        "print(name)"
      ],
      "metadata": {
        "colab": {
          "base_uri": "https://localhost:8080/"
        },
        "id": "OOGSlmsdUsuP",
        "outputId": "178eb496-893f-4995-af6b-2033926ec843"
      },
      "execution_count": null,
      "outputs": [
        {
          "output_type": "stream",
          "name": "stdout",
          "text": [
            "Alice\n"
          ]
        }
      ]
    },
    {
      "cell_type": "markdown",
      "source": [
        "Q24. Write a code to remove the key \"age\" from the dictionary {'name': 'Bob', 'age': 22, 'city': 'New York'}."
      ],
      "metadata": {
        "id": "qBmvATqNUwBD"
      }
    },
    {
      "cell_type": "code",
      "source": [
        "person = {'name': 'Bob', 'age': 22, 'city': 'New York'}\n",
        "del person[\"age\"]\n",
        "print(person)"
      ],
      "metadata": {
        "colab": {
          "base_uri": "https://localhost:8080/"
        },
        "id": "RwG-UsMWU6Bs",
        "outputId": "1d56660d-6ee2-46c8-e02e-1a2ccb2501f2"
      },
      "execution_count": null,
      "outputs": [
        {
          "output_type": "stream",
          "name": "stdout",
          "text": [
            "{'name': 'Bob', 'city': 'New York'}\n"
          ]
        }
      ]
    },
    {
      "cell_type": "markdown",
      "source": [
        "Q25. Write a code to check if the key \"city\" exists in the dictionary {'name': 'Alice', 'city': 'Paris'}."
      ],
      "metadata": {
        "id": "rHlcXRU_U-hg"
      }
    },
    {
      "cell_type": "code",
      "source": [
        "person = {'name': 'Alice', 'city': 'Paris'}\n",
        "if \"city\" in person:\n",
        "  print(\"City exists\")\n",
        "else:\n",
        "  print(\"City does not exist\")"
      ],
      "metadata": {
        "colab": {
          "base_uri": "https://localhost:8080/"
        },
        "id": "cvDRD5fsVCkm",
        "outputId": "e5a12f44-4cdf-4846-dd37-7d3422bd6f16"
      },
      "execution_count": null,
      "outputs": [
        {
          "output_type": "stream",
          "name": "stdout",
          "text": [
            "City exists\n"
          ]
        }
      ]
    },
    {
      "cell_type": "markdown",
      "source": [
        "Q26. Write a code to create a list, a tuple, and a dictionary, and print them all."
      ],
      "metadata": {
        "id": "4Im_Ji2KVFMu"
      }
    },
    {
      "cell_type": "code",
      "source": [
        "# List\n",
        "fruits_list = [\"apple\", \"banana\", \"cherry\"]\n",
        "print(\"List:\", fruits_list)\n",
        "\n",
        "# Tuple\n",
        "fruits_tuple = (\"apple\", \"banana\", \"cherry\")\n",
        "print(\"Tuple:\", fruits_tuple)\n",
        "\n",
        "# Dictionary\n",
        "person = {\"name\": \"John\", \"age\": 30, \"city\": \"New York\"}\n",
        "print(\"Dictionary:\", person)"
      ],
      "metadata": {
        "colab": {
          "base_uri": "https://localhost:8080/"
        },
        "id": "dwu0t049VIhS",
        "outputId": "67f02c46-1cbc-4c9c-8acb-3ffaadb79d07"
      },
      "execution_count": null,
      "outputs": [
        {
          "output_type": "stream",
          "name": "stdout",
          "text": [
            "List: ['apple', 'banana', 'cherry']\n",
            "Tuple: ('apple', 'banana', 'cherry')\n",
            "Dictionary: {'name': 'John', 'age': 30, 'city': 'New York'}\n"
          ]
        }
      ]
    },
    {
      "cell_type": "markdown",
      "source": [
        "\n",
        "Q27. Write a code to create a list of 5 random numbers between 1 and 100, sort it in ascending order, and print the result.(replaced)."
      ],
      "metadata": {
        "id": "ThnFZ9MuVMZi"
      }
    },
    {
      "cell_type": "code",
      "source": [
        "import random\n",
        "# Generate a list of 5 random numbers\n",
        "random_numbers = random.sample(range(1, 101), 5)\n",
        "print(\"Original List:\", random_numbers)"
      ],
      "metadata": {
        "colab": {
          "base_uri": "https://localhost:8080/"
        },
        "id": "WiU9xQOyVPf5",
        "outputId": "67ea6b83-81ee-4044-b249-1ccf78d93515"
      },
      "execution_count": null,
      "outputs": [
        {
          "output_type": "stream",
          "name": "stdout",
          "text": [
            "Original List: [47, 18, 26, 75, 92]\n"
          ]
        }
      ]
    },
    {
      "cell_type": "code",
      "source": [
        "# Sort the list in ascending order\n",
        "random_numbers.sort()\n",
        "print(\"Sorted List:\", random_numbers)"
      ],
      "metadata": {
        "colab": {
          "base_uri": "https://localhost:8080/"
        },
        "id": "Kf0-oRP7VXrT",
        "outputId": "e812bfc0-22eb-4164-e7bc-5fc2b928cfa0"
      },
      "execution_count": null,
      "outputs": [
        {
          "output_type": "stream",
          "name": "stdout",
          "text": [
            "Sorted List: [18, 26, 47, 75, 92]\n"
          ]
        }
      ]
    },
    {
      "cell_type": "markdown",
      "source": [
        "\n",
        "Q28. Write a code to create a list with strings and print the element at the third index."
      ],
      "metadata": {
        "id": "iAWSiejTVZv_"
      }
    },
    {
      "cell_type": "code",
      "source": [
        "fruits = [\"apple\", \"banana\", \"cherry\", \"date\", \"elderberry\"]\n",
        "print(fruits[2])"
      ],
      "metadata": {
        "colab": {
          "base_uri": "https://localhost:8080/"
        },
        "id": "rrK_UjDEVfXZ",
        "outputId": "8843b1f8-18ff-45fd-9fcb-2b3bc5294f0f"
      },
      "execution_count": null,
      "outputs": [
        {
          "output_type": "stream",
          "name": "stdout",
          "text": [
            "cherry\n"
          ]
        }
      ]
    },
    {
      "cell_type": "code",
      "source": [
        "type(fruits)"
      ],
      "metadata": {
        "colab": {
          "base_uri": "https://localhost:8080/"
        },
        "id": "C13d5QhbVhjO",
        "outputId": "b3aa852e-011c-470b-f040-26cb9f3fea91"
      },
      "execution_count": null,
      "outputs": [
        {
          "output_type": "execute_result",
          "data": {
            "text/plain": [
              "list"
            ]
          },
          "metadata": {},
          "execution_count": 57
        }
      ]
    },
    {
      "cell_type": "markdown",
      "source": [
        "\n",
        "Q29. Write a code to combine two dictionaries into one and print the result."
      ],
      "metadata": {
        "id": "m39_qbTzVn2_"
      }
    },
    {
      "cell_type": "code",
      "source": [
        "dict1 = {\"name\": \"John\", \"age\": 30}\n",
        "dict2 = {\"city\": \"New York\", \"country\": \"USA\"}\n",
        "# Combine dictionaries\n",
        "combined_dict = {**dict1, **dict2}\n",
        "print(combined_dict)"
      ],
      "metadata": {
        "colab": {
          "base_uri": "https://localhost:8080/"
        },
        "id": "wSe21dNkVqVB",
        "outputId": "f435585b-fd23-44d3-c49a-b6a6b3e06932"
      },
      "execution_count": null,
      "outputs": [
        {
          "output_type": "stream",
          "name": "stdout",
          "text": [
            "{'name': 'John', 'age': 30, 'city': 'New York', 'country': 'USA'}\n"
          ]
        }
      ]
    },
    {
      "cell_type": "markdown",
      "source": [
        "Q30. Write a code to convert a list of strings into a set."
      ],
      "metadata": {
        "id": "dVCHWiDIVsXC"
      }
    },
    {
      "cell_type": "code",
      "source": [
        "fruits_list = [\"apple\", \"banana\", \"cherry\", \"apple\", \"banana\"]\n",
        "print(fruits_list)"
      ],
      "metadata": {
        "colab": {
          "base_uri": "https://localhost:8080/"
        },
        "id": "4KGaZe21VurN",
        "outputId": "c644c5ff-27c4-490c-f1b3-591cf7ba938e"
      },
      "execution_count": null,
      "outputs": [
        {
          "output_type": "stream",
          "name": "stdout",
          "text": [
            "['apple', 'banana', 'cherry', 'apple', 'banana']\n"
          ]
        }
      ]
    },
    {
      "cell_type": "code",
      "source": [
        "fruits_set = set(fruits_list)\n",
        "print(fruits_set)"
      ],
      "metadata": {
        "colab": {
          "base_uri": "https://localhost:8080/"
        },
        "id": "rxg3PQ3GV3G9",
        "outputId": "689c3396-b553-4a05-af32-edec7611420b"
      },
      "execution_count": null,
      "outputs": [
        {
          "output_type": "stream",
          "name": "stdout",
          "text": [
            "{'banana', 'apple', 'cherry'}\n"
          ]
        }
      ]
    },
    {
      "cell_type": "code",
      "source": [
        "type(fruits_set)"
      ],
      "metadata": {
        "colab": {
          "base_uri": "https://localhost:8080/"
        },
        "id": "bjl0CkWGV5t1",
        "outputId": "0f783674-043f-4c83-d8f6-e2057ee8a4fb"
      },
      "execution_count": null,
      "outputs": [
        {
          "output_type": "execute_result",
          "data": {
            "text/plain": [
              "set"
            ]
          },
          "metadata": {},
          "execution_count": 61
        }
      ]
    },
    {
      "cell_type": "code",
      "source": [
        "type(fruits_list)"
      ],
      "metadata": {
        "id": "FFZC8DD2WBQP",
        "outputId": "1ac56969-0d7a-4eb2-d431-2d9b1dd914fe",
        "colab": {
          "base_uri": "https://localhost:8080/"
        }
      },
      "execution_count": null,
      "outputs": [
        {
          "output_type": "execute_result",
          "data": {
            "text/plain": [
              "list"
            ]
          },
          "metadata": {},
          "execution_count": 62
        }
      ]
    }
  ]
}